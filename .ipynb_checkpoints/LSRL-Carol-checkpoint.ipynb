{
 "cells": [
  {
   "cell_type": "code",
   "execution_count": 1,
   "metadata": {},
   "outputs": [],
   "source": [
    "import pandas as pd\n",
    "import nltk\n",
    "import numpy as np\n"
   ]
  },
  {
   "cell_type": "code",
   "execution_count": 2,
   "metadata": {},
   "outputs": [],
   "source": [
    "import bs4\n",
    "import string\n"
   ]
  },
  {
   "cell_type": "code",
   "execution_count": 3,
   "metadata": {},
   "outputs": [],
   "source": [
    "from nltk.corpus import stopwords\n",
    "from nltk.tokenize import sent_tokenize, word_tokenize\n",
    "from nltk.stem import WordNetLemmatizer\n",
    "from nltk.stem.porter import PorterStemmer"
   ]
  },
  {
   "cell_type": "code",
   "execution_count": 4,
   "metadata": {},
   "outputs": [],
   "source": [
    "df = pd.read_csv('LSRL_Master2.csv', encoding = \"utf-8\")"
   ]
  },
  {
   "cell_type": "code",
   "execution_count": 5,
   "metadata": {},
   "outputs": [
    {
     "data": {
      "text/plain": [
       "0        0.0\n",
       "1        NaN\n",
       "2        NaN\n",
       "3       15.0\n",
       "4        0.0\n",
       "        ... \n",
       "1013    10.0\n",
       "1014     6.0\n",
       "1015     3.0\n",
       "1016     0.0\n",
       "1017     0.0\n",
       "Name: Extra, Length: 1018, dtype: float64"
      ]
     },
     "execution_count": 5,
     "metadata": {},
     "output_type": "execute_result"
    }
   ],
   "source": [
    "df['Extra'] #take a look at the citation counts, for instance"
   ]
  },
  {
   "cell_type": "code",
   "execution_count": 6,
   "metadata": {},
   "outputs": [
    {
     "data": {
      "text/plain": [
       "Key                  object\n",
       "Item Type            object\n",
       "Publication Year      int64\n",
       "Author               object\n",
       "Author 1             object\n",
       "                     ...   \n",
       "Section             float64\n",
       "Session             float64\n",
       "Committee           float64\n",
       "History             float64\n",
       "Legislative Body    float64\n",
       "Length: 100, dtype: object"
      ]
     },
     "execution_count": 6,
     "metadata": {},
     "output_type": "execute_result"
    }
   ],
   "source": [
    "df.dtypes\n"
   ]
  },
  {
   "cell_type": "code",
   "execution_count": 7,
   "metadata": {},
   "outputs": [
    {
     "data": {
      "text/plain": [
       "(1018, 100)"
      ]
     },
     "execution_count": 7,
     "metadata": {},
     "output_type": "execute_result"
    }
   ],
   "source": [
    "df.shape"
   ]
  },
  {
   "cell_type": "code",
   "execution_count": 8,
   "metadata": {},
   "outputs": [],
   "source": [
    "df1 = df.dropna(axis = 1, how = 'all') #drop all columns (axis = 1) with all null values"
   ]
  },
  {
   "cell_type": "code",
   "execution_count": 9,
   "metadata": {},
   "outputs": [
    {
     "data": {
      "text/plain": [
       "(1018, 42)"
      ]
     },
     "execution_count": 9,
     "metadata": {},
     "output_type": "execute_result"
    }
   ],
   "source": [
    "df1.shape"
   ]
  },
  {
   "cell_type": "code",
   "execution_count": 10,
   "metadata": {},
   "outputs": [
    {
     "data": {
      "text/plain": [
       "0"
      ]
     },
     "execution_count": 10,
     "metadata": {},
     "output_type": "execute_result"
    }
   ],
   "source": [
    "df1['key'].isnull().sum() #count all the rows that don't have a title just to make sure that there aren't any"
   ]
  },
  {
   "cell_type": "code",
   "execution_count": 11,
   "metadata": {},
   "outputs": [
    {
     "data": {
      "text/plain": [
       "250                                       Eppur Se Muove\n",
       "251    Parallelisms Between Liaison In French And/s/a...\n",
       "252    Certains Corrélats De La Distinction Entre Mor...\n",
       "253    A Speech Act Analysis Of Polite Verb-forms In ...\n",
       "254    The Mute E In French As A Sociolinguistic Vari...\n",
       "255    Clitic Promotion And Mood In Spanish Verbal Co...\n",
       "256    Sentential Clitics And Clause Reduction In Ita...\n",
       "257    A Semantic Analysis Of The Difference Between ...\n",
       "258    The Variable Constraints On Mood In Puerto Ric...\n",
       "259    Aspects Of Spanish Aspect: A New Look At The P...\n",
       "Name: key, dtype: object"
      ]
     },
     "execution_count": 11,
     "metadata": {},
     "output_type": "execute_result"
    }
   ],
   "source": [
    "df1['key'][250:260] #take a look at the titles"
   ]
  },
  {
   "cell_type": "markdown",
   "metadata": {},
   "source": [
    "The output of pandas is datatype object which is the pd equivalent of str. In order to tokenize the words in the column, I had to do the following to remove the NaN. "
   ]
  },
  {
   "cell_type": "code",
   "execution_count": 12,
   "metadata": {},
   "outputs": [
    {
     "name": "stdout",
     "output_type": "stream",
     "text": [
      "820    [sub-extraction, from, subjects, :, a, phase, ...\n",
      "821    [negative, concord, and, double, negation, :, ...\n",
      "822    [performative, verbs, in, spanish, monolingual...\n",
      "823       [expletives, ,, number, and, language, change]\n",
      "824    [investigating, phrasing, levels, in, french, ...\n",
      "825    [rhythmic, constraints, on, the, distribution,...\n",
      "826    [subjects, and, wh-questions, :, some, new, ge...\n",
      "827    [interpretive, deficit, ?, evidence, from, the...\n",
      "828    [discontinuous, wh-constituents, in, brazilian...\n",
      "829       [syntax, and, semantics, of, split, questions]\n",
      "830    [parenthetical, null, topic, constructions, in...\n",
      "831    [the, left, edge, in, the, spanish, clausal, s...\n",
      "832    [rhotic, metathesis, asymmetries, in, romance,...\n",
      "833      [the, domain, of, palatalization, in, romanian]\n",
      "834    [putting, the, spanish, determiner, phrase, in...\n",
      "835    [romanian, palatalization, :, the, role, of, p...\n",
      "836    [proscriptions, …, gaps, …, and, something, in...\n",
      "837    [discriminating, pitch, accent, alignment, in,...\n",
      "838    [romance, paths, as, cognate, complements, :, ...\n",
      "839    [antisymmetry, and, the, typology, of, relativ...\n",
      "Name: tokenized_key, dtype: object\n"
     ]
    },
    {
     "name": "stderr",
     "output_type": "stream",
     "text": [
      "<ipython-input-12-a85f5854ad9c>:1: SettingWithCopyWarning: \n",
      "A value is trying to be set on a copy of a slice from a DataFrame.\n",
      "Try using .loc[row_indexer,col_indexer] = value instead\n",
      "\n",
      "See the caveats in the documentation: https://pandas.pydata.org/pandas-docs/stable/user_guide/indexing.html#returning-a-view-versus-a-copy\n",
      "  df1[\"tokenized_key\"] = df1[\"key\"].fillna(\"\").map(lambda x: nltk.word_tokenize(x.lower()))\n"
     ]
    }
   ],
   "source": [
    "df1[\"tokenized_key\"] = df1[\"key\"].fillna(\"\").map(lambda x: nltk.word_tokenize(x.lower())) \n",
    "print(df1['tokenized_key'][820:840])"
   ]
  },
  {
   "cell_type": "markdown",
   "metadata": {},
   "source": [
    "Can I just assign this all to a variable so I can manipulate it from there?"
   ]
  },
  {
   "cell_type": "code",
   "execution_count": null,
   "metadata": {},
   "outputs": [],
   "source": [
    "average_str_length = df1['tokenized_key'].str.len()\n",
    "print(\"The average length of an LSRL title is: \", average_str_length)"
   ]
  },
  {
   "cell_type": "code",
   "execution_count": null,
   "metadata": {},
   "outputs": [],
   "source": [
    "longest_string = max(df1['tokenized_key'], key=len)\n",
    "\n",
    "print(\"The longest title is :\", longest_string) "
   ]
  },
  {
   "cell_type": "code",
   "execution_count": null,
   "metadata": {},
   "outputs": [],
   "source": [
    "df1.loc[254]"
   ]
  },
  {
   "cell_type": "code",
   "execution_count": null,
   "metadata": {},
   "outputs": [],
   "source": [
    "df1.drop([254], axis = 0, inplace = True) \n",
    "df1.shape"
   ]
  },
  {
   "cell_type": "code",
   "execution_count": null,
   "metadata": {},
   "outputs": [],
   "source": [
    "longest_string = max(df1['tokenized_key'], key=len)\n",
    "\n",
    "print(\"The longest title is :\", longest_string) "
   ]
  },
  {
   "cell_type": "code",
   "execution_count": null,
   "metadata": {},
   "outputs": [],
   "source": [
    "\n",
    "average_str_length = df1['tokenized_key'].str.len()\n",
    "print(\"The average length of an LSRL title is: \", average_str_length)"
   ]
  },
  {
   "cell_type": "code",
   "execution_count": null,
   "metadata": {},
   "outputs": [],
   "source": [
    "shortest_string = min(df1['tokenized_key'], key=len)\n",
    "\n",
    "print(\"The shortest title is :\", shortest_string) "
   ]
  },
  {
   "cell_type": "code",
   "execution_count": null,
   "metadata": {},
   "outputs": [],
   "source": [
    "df1[df1['key'].str.contains('relativization')] #find a row that contains relativization in 'key'"
   ]
  },
  {
   "cell_type": "code",
   "execution_count": null,
   "metadata": {},
   "outputs": [],
   "source": [
    "count = df1['tokenized_key'].value_counts()\n",
    "print(count)"
   ]
  },
  {
   "cell_type": "markdown",
   "metadata": {},
   "source": [
    "There are still duplicate entries in the data so let's try to find and remove these."
   ]
  },
  {
   "cell_type": "code",
   "execution_count": null,
   "metadata": {},
   "outputs": [],
   "source": [
    "duplicate_row = df[df.duplicated(['key'])]\n",
    "print(duplicate_row)\n",
    "                                  "
   ]
  },
  {
   "cell_type": "code",
   "execution_count": null,
   "metadata": {},
   "outputs": [],
   "source": [
    "df1.drop([242, 245], axis = 0, inplace = True) \n",
    "df1.shape"
   ]
  },
  {
   "cell_type": "code",
   "execution_count": null,
   "metadata": {},
   "outputs": [],
   "source": [
    "df1.shape"
   ]
  },
  {
   "cell_type": "code",
   "execution_count": null,
   "metadata": {},
   "outputs": [],
   "source": [
    "df1.drop([246, 247, 250, 255], axis = 0, inplace = True) \n",
    "df1.shape"
   ]
  },
  {
   "cell_type": "code",
   "execution_count": null,
   "metadata": {},
   "outputs": [],
   "source": [
    "from collections import Counter"
   ]
  },
  {
   "cell_type": "code",
   "execution_count": null,
   "metadata": {},
   "outputs": [],
   "source": [
    "s = pd.Series(Counter([y for x in df1['tokenized_key'] for y in x]))\n",
    "print(s)"
   ]
  },
  {
   "cell_type": "code",
   "execution_count": null,
   "metadata": {},
   "outputs": [],
   "source": [
    "y = s.sort_values(ascending = False)\n",
    "pd.set_option('display.max_rows', None)\n",
    "print(y)"
   ]
  },
  {
   "cell_type": "code",
   "execution_count": null,
   "metadata": {},
   "outputs": [],
   "source": [
    "df1[\"tokenized_author\"] = df1[\"Author\"].fillna(\"\").map(lambda x: nltk.word_tokenize(x.lower())) \n",
    "w = pd.Series(Counter([y for x in df1['tokenized_author'] for y in x]))\n",
    "auteur = w.sort_values(ascending = False)\n",
    "pd.set_option('display.max_rows', None)\n",
    "print(auteur)"
   ]
  },
  {
   "cell_type": "code",
   "execution_count": null,
   "metadata": {},
   "outputs": [],
   "source": [
    "1 + 2 \n"
   ]
  },
  {
   "cell_type": "code",
   "execution_count": null,
   "metadata": {},
   "outputs": [],
   "source": [
    "58+45+28+37"
   ]
  },
  {
   "cell_type": "code",
   "execution_count": null,
   "metadata": {},
   "outputs": [],
   "source": [
    "63+87+103+121+107+110"
   ]
  },
  {
   "cell_type": "code",
   "execution_count": null,
   "metadata": {},
   "outputs": [],
   "source": [
    "591/6"
   ]
  },
  {
   "cell_type": "code",
   "execution_count": null,
   "metadata": {},
   "outputs": [],
   "source": []
  }
 ],
 "metadata": {
  "kernelspec": {
   "display_name": "Python 3 (ipykernel)",
   "language": "python",
   "name": "python3"
  },
  "language_info": {
   "codemirror_mode": {
    "name": "ipython",
    "version": 3
   },
   "file_extension": ".py",
   "mimetype": "text/x-python",
   "name": "python",
   "nbconvert_exporter": "python",
   "pygments_lexer": "ipython3",
   "version": "3.9.7"
  }
 },
 "nbformat": 4,
 "nbformat_minor": 2
}
