{
  "cells": [
    {
      "cell_type": "markdown",
      "metadata": {
        "id": "view-in-github",
        "colab_type": "text"
      },
      "source": [
        "<a href=\"https://colab.research.google.com/github/pablitomarie/LSRL_Bibliography-Project/blob/main/LSRL_notebook_CZ.ipynb\" target=\"_parent\"><img src=\"https://colab.research.google.com/assets/colab-badge.svg\" alt=\"Open In Colab\"/></a>"
      ]
    },
    {
      "cell_type": "code",
      "execution_count": 1,
      "metadata": {
        "colab": {
          "base_uri": "https://localhost:8080/"
        },
        "id": "6HOkxUntGWKX",
        "outputId": "7b35d4ac-42be-45df-b042-7f956c40bd63"
      },
      "outputs": [
        {
          "output_type": "stream",
          "name": "stdout",
          "text": [
            "Mounted at /content/gdrive\n"
          ]
        }
      ],
      "source": [
        "from google.colab import drive\n",
        "drive.mount('/content/gdrive')"
      ]
    },
    {
      "cell_type": "code",
      "execution_count": 2,
      "metadata": {
        "id": "mNpxwWiuOcJY"
      },
      "outputs": [],
      "source": [
        "from google.colab import auth\n",
        "auth.authenticate_user()\n",
        "\n",
        "import gspread\n",
        "from google.auth import default\n",
        "creds, _ = default()\n",
        "\n",
        "gc = gspread.authorize(creds)"
      ]
    },
    {
      "cell_type": "code",
      "source": [
        "import string"
      ],
      "metadata": {
        "id": "y90qwtKSpgGb"
      },
      "execution_count": 3,
      "outputs": []
    },
    {
      "cell_type": "code",
      "execution_count": 4,
      "metadata": {
        "id": "2m9rNqoUJxkA"
      },
      "outputs": [],
      "source": [
        "import pandas as pd\n",
        "import nltk\n",
        "import numpy as np"
      ]
    },
    {
      "cell_type": "code",
      "source": [
        "from collections import Counter"
      ],
      "metadata": {
        "id": "sFl1Zetzpa-U"
      },
      "execution_count": 5,
      "outputs": []
    },
    {
      "cell_type": "code",
      "source": [
        "from nltk.corpus import stopwords\n",
        "nltk.download('stopwords')\n",
        "\n",
        "stopword = set(stopwords.words('english'))\n",
        "\n",
        "from string import punctuation"
      ],
      "metadata": {
        "colab": {
          "base_uri": "https://localhost:8080/"
        },
        "id": "Xfucd7s8pTtg",
        "outputId": "9631583a-3547-4766-910b-517c187a7262"
      },
      "execution_count": 6,
      "outputs": [
        {
          "output_type": "stream",
          "name": "stderr",
          "text": [
            "[nltk_data] Downloading package stopwords to /root/nltk_data...\n",
            "[nltk_data]   Unzipping corpora/stopwords.zip.\n"
          ]
        }
      ]
    },
    {
      "cell_type": "code",
      "source": [
        "from nltk.tokenize import sent_tokenize, word_tokenize\n",
        "from nltk.stem import WordNetLemmatizer\n",
        "from nltk.stem.porter import PorterStemmer"
      ],
      "metadata": {
        "id": "tNC96e9wpUo7"
      },
      "execution_count": 7,
      "outputs": []
    },
    {
      "cell_type": "markdown",
      "source": [
        "# Open up sheet"
      ],
      "metadata": {
        "id": "6B-VXjzsyD3u"
      }
    },
    {
      "cell_type": "code",
      "source": [
        "# open LSRL_Master2\n",
        "sheet = gc.open('LSRL_Master2')\n",
        "wsRaw = sheet.get_worksheet(0)\n",
        "\n",
        "# turn sheet into Pandas dataframe\n",
        "df = pd.DataFrame(wsRaw.get_all_records())"
      ],
      "metadata": {
        "id": "FsqnsHDmxHqI"
      },
      "execution_count": 8,
      "outputs": []
    },
    {
      "cell_type": "markdown",
      "source": [
        "## Useful Functions "
      ],
      "metadata": {
        "id": "J52fx81Urgga"
      }
    },
    {
      "cell_type": "markdown",
      "source": [
        "## Clean Up Sheet"
      ],
      "metadata": {
        "id": "9HWCfKFNr7tb"
      }
    },
    {
      "cell_type": "code",
      "source": [
        "df.shape"
      ],
      "metadata": {
        "colab": {
          "base_uri": "https://localhost:8080/"
        },
        "id": "hzpwYL5AeDew",
        "outputId": "403ddd0f-6833-49b1-da6a-f1ce406331c0"
      },
      "execution_count": 9,
      "outputs": [
        {
          "output_type": "execute_result",
          "data": {
            "text/plain": [
              "(1063, 87)"
            ]
          },
          "metadata": {},
          "execution_count": 9
        }
      ]
    },
    {
      "cell_type": "code",
      "source": [
        "df['References'] #empty is \"\" not NaN"
      ],
      "metadata": {
        "colab": {
          "base_uri": "https://localhost:8080/"
        },
        "id": "3zo1-fKdgGwF",
        "outputId": "482b1377-7519-41fe-bc19-243bde2bebf5"
      },
      "execution_count": 10,
      "outputs": [
        {
          "output_type": "execute_result",
          "data": {
            "text/plain": [
              "0        \n",
              "1        \n",
              "2        \n",
              "3        \n",
              "4        \n",
              "       ..\n",
              "1058     \n",
              "1059     \n",
              "1060     \n",
              "1061     \n",
              "1062     \n",
              "Name: References, Length: 1063, dtype: object"
            ]
          },
          "metadata": {},
          "execution_count": 10
        }
      ]
    },
    {
      "cell_type": "code",
      "source": [
        "# replace empty with NaN\n",
        "df = df.replace('', np.nan)"
      ],
      "metadata": {
        "id": "KZ806dCHiJ9e"
      },
      "execution_count": 11,
      "outputs": []
    },
    {
      "cell_type": "markdown",
      "source": [
        "### 1. Removing null columns\n",
        "\n"
      ],
      "metadata": {
        "id": "S8ks5a3zsF-3"
      }
    },
    {
      "cell_type": "code",
      "source": [
        "# drop all columns (axis = 1) with all null values\n",
        "df = df.dropna(axis = 1, how = 'all')"
      ],
      "metadata": {
        "id": "xaBWJAwaruVV"
      },
      "execution_count": 12,
      "outputs": []
    },
    {
      "cell_type": "code",
      "source": [
        "# new sheet has 44 columns\n",
        "df.shape"
      ],
      "metadata": {
        "colab": {
          "base_uri": "https://localhost:8080/"
        },
        "id": "5XEZA09RsWUJ",
        "outputId": "6a4ad895-d46e-4a33-8861-bd9e079605c3"
      },
      "execution_count": 13,
      "outputs": [
        {
          "output_type": "execute_result",
          "data": {
            "text/plain": [
              "(1063, 44)"
            ]
          },
          "metadata": {},
          "execution_count": 13
        }
      ]
    },
    {
      "cell_type": "code",
      "source": [
        "# remove rows with no publications\n",
        "df['key'].isnull().sum()\n",
        "df.dropna(subset = ['key'], inplace = True) # remove them for now\n",
        "df.loc[len(df)-1] # get the last item should be Ernesto R."
      ],
      "metadata": {
        "colab": {
          "base_uri": "https://localhost:8080/"
        },
        "id": "VTxSc6-nsZc6",
        "outputId": "f678fe77-3c3d-46ed-bf4b-847f0803994d"
      },
      "execution_count": 14,
      "outputs": [
        {
          "output_type": "stream",
          "name": "stderr",
          "text": [
            "<ipython-input-14-4898bd0a70b1>:3: SettingWithCopyWarning: \n",
            "A value is trying to be set on a copy of a slice from a DataFrame\n",
            "\n",
            "See the caveats in the documentation: https://pandas.pydata.org/pandas-docs/stable/user_guide/indexing.html#returning-a-view-versus-a-copy\n",
            "  df.dropna(subset = ['key'], inplace = True) # remove them for now\n"
          ]
        },
        {
          "output_type": "execute_result",
          "data": {
            "text/plain": [
              "                                                                      NaN\n",
              "Item Type                                                 conferencePaper\n",
              "Publication Year                                                     2023\n",
              "Author                                       Gutiérrez Topete, Ernesto R.\n",
              "Author 1                                     Gutiérrez Topete, Ernesto R.\n",
              "Author 2                                                              NaN\n",
              "Author 3                                                              NaN\n",
              "Author 4                                                              NaN\n",
              "Author 5                                                              NaN\n",
              "Author 6                                                              NaN\n",
              "Title                        Frequency and efficiency in Spanish proverbs\n",
              "key                          Frequency and efficiency in Spanish proverbs\n",
              "Abstract                Zipf’s law states that there is an inverse rel...\n",
              "doi url                            https://doi.org/10.5281/zenodo.7525120\n",
              "Publication Title       A half century of Romance linguistics: Selecte...\n",
              "ISBN                                              978-3-96110-405-5 (pdf)\n",
              "ISSN                                                                  NaN\n",
              "DOI                                                10.5281/zenodo.7525084\n",
              "Url                                                                   NaN\n",
              "Date                                                                 2023\n",
              "Date Added                                                        2/17/23\n",
              "Date Modified                                                         NaN\n",
              "Pages                                                             323-345\n",
              "Begin Page                                                            323\n",
              "End Page                                                              345\n",
              "Issue                                                                 NaN\n",
              "Volume                                                                NaN\n",
              "Number Of Volumes                                                     NaN\n",
              "Journal Abbreviation                                                  NaN\n",
              "Series                                           Open Romance Linguistics\n",
              "Publisher                                          Language Science Press\n",
              "Place                                                                 NaN\n",
              "Language                                                              NaN\n",
              "Archive                                                               NaN\n",
              "Library Catalog                                                       NaN\n",
              "Extra                                                                 NaN\n",
              "Notes                                                                 NaN\n",
              "Publication Type 2                                                    NaN\n",
              "File Attachments                                                      NaN\n",
              "Manual Tags                                                           NaN\n",
              "Editor                  Bullock, Barbara E.; Russi, Cinzia; Toribio, A...\n",
              "Meeting Name                                                      LSRL 50\n",
              "Meeting Location                        The University of Texas at Austin\n",
              "Conference Name                 Linguistic Symposium on Romance Languages\n",
              "Name: 1062, dtype: object"
            ]
          },
          "metadata": {},
          "execution_count": 14
        }
      ]
    },
    {
      "cell_type": "code",
      "source": [
        "# new sheet has 1063 rows\n",
        "df.shape"
      ],
      "metadata": {
        "colab": {
          "base_uri": "https://localhost:8080/"
        },
        "id": "qXQODEx-shor",
        "outputId": "f44d07fc-9706-4eba-f562-8635962ae06e"
      },
      "execution_count": 15,
      "outputs": [
        {
          "output_type": "execute_result",
          "data": {
            "text/plain": [
              "(1063, 44)"
            ]
          },
          "metadata": {},
          "execution_count": 15
        }
      ]
    },
    {
      "cell_type": "markdown",
      "source": [
        "### 2. Finding and removing duplicates"
      ],
      "metadata": {
        "id": "48wtakfOsoiz"
      }
    },
    {
      "cell_type": "code",
      "source": [
        "# Finding duplicates\n",
        "df[df.duplicated(subset = ['key'])]"
      ],
      "metadata": {
        "colab": {
          "base_uri": "https://localhost:8080/",
          "height": 651
        },
        "id": "1LB_PeJ1s5b1",
        "outputId": "d6f84fa5-7650-49f9-c244-dfc0dab1533c"
      },
      "execution_count": 16,
      "outputs": [
        {
          "output_type": "execute_result",
          "data": {
            "text/plain": [
              "                 Item Type  Publication Year  \\\n",
              "113  FKDHS8XD  bookSection              1978   \n",
              "116  LVXHD7LB  bookSection              1978   \n",
              "117  WDK32N3G  bookSection              1978   \n",
              "118  2GV9EJBE  bookSection              1978   \n",
              "121  YHESVZTV  bookSection              1978   \n",
              "126  6IFXAMKH  bookSection              1978   \n",
              "\n",
              "                               Author        Author 1             Author 2  \\\n",
              "113  Reynolds, L.; Mez-Dombkowski, E.    Reynolds, L.   Mez-Dombkowski, E.   \n",
              "116                    Saltarelli, M.  Saltarelli, M.                  NaN   \n",
              "117                        Walker, D.      Walker, D.                  NaN   \n",
              "118                         Stead, D.       Stead, D.                  NaN   \n",
              "121                          Ford, A.        Ford, A.                  NaN   \n",
              "126                         Luján, M.       Luján, M.                  NaN   \n",
              "\n",
              "    Author 3 Author 4 Author 5 Author 6  ... Library Catalog  Extra Notes  \\\n",
              "113      NaN      NaN      NaN      NaN  ...             NaN    0.0   NaN   \n",
              "116      NaN      NaN      NaN      NaN  ...             NaN    0.0   NaN   \n",
              "117      NaN      NaN      NaN      NaN  ...             NaN    0.0   NaN   \n",
              "118      NaN      NaN      NaN      NaN  ...             NaN    0.0   NaN   \n",
              "121      NaN      NaN      NaN      NaN  ...             NaN    0.0   NaN   \n",
              "126      NaN      NaN      NaN      NaN  ...             NaN  102.0   NaN   \n",
              "\n",
              "    Publication Type 2 File Attachments Manual Tags     Editor Meeting Name  \\\n",
              "113       book article              NaN         NaN  Morin, YC       LSRL06   \n",
              "116       book article              NaN         NaN  Morin, YC       LSRL06   \n",
              "117       book article              NaN         NaN  Morin, YC       LSRL06   \n",
              "118       book article              NaN         NaN  Morin, YC       LSRL06   \n",
              "121       book article              NaN         NaN  Morin, YC       LSRL06   \n",
              "126       book article              NaN         NaN  Morin, YC       LSRL06   \n",
              "\n",
              "                    Meeting Location  \\\n",
              "113  Université de Québec à Montréal   \n",
              "116  Université de Québec à Montréal   \n",
              "117  Université de Québec à Montréal   \n",
              "118  Université de Québec à Montréal   \n",
              "121  Université de Québec à Montréal   \n",
              "126  Université de Québec à Montréal   \n",
              "\n",
              "                               Conference Name  \n",
              "113  Linguistic Symposium on Romance Languages  \n",
              "116  Linguistic Symposium on Romance Languages  \n",
              "117  Linguistic Symposium on Romance Languages  \n",
              "118  Linguistic Symposium on Romance Languages  \n",
              "121  Linguistic Symposium on Romance Languages  \n",
              "126  Linguistic Symposium on Romance Languages  \n",
              "\n",
              "[6 rows x 44 columns]"
            ],
            "text/html": [
              "\n",
              "  <div id=\"df-80e519a0-18da-4788-a535-7709573c8431\">\n",
              "    <div class=\"colab-df-container\">\n",
              "      <div>\n",
              "<style scoped>\n",
              "    .dataframe tbody tr th:only-of-type {\n",
              "        vertical-align: middle;\n",
              "    }\n",
              "\n",
              "    .dataframe tbody tr th {\n",
              "        vertical-align: top;\n",
              "    }\n",
              "\n",
              "    .dataframe thead th {\n",
              "        text-align: right;\n",
              "    }\n",
              "</style>\n",
              "<table border=\"1\" class=\"dataframe\">\n",
              "  <thead>\n",
              "    <tr style=\"text-align: right;\">\n",
              "      <th></th>\n",
              "      <th></th>\n",
              "      <th>Item Type</th>\n",
              "      <th>Publication Year</th>\n",
              "      <th>Author</th>\n",
              "      <th>Author 1</th>\n",
              "      <th>Author 2</th>\n",
              "      <th>Author 3</th>\n",
              "      <th>Author 4</th>\n",
              "      <th>Author 5</th>\n",
              "      <th>Author 6</th>\n",
              "      <th>...</th>\n",
              "      <th>Library Catalog</th>\n",
              "      <th>Extra</th>\n",
              "      <th>Notes</th>\n",
              "      <th>Publication Type 2</th>\n",
              "      <th>File Attachments</th>\n",
              "      <th>Manual Tags</th>\n",
              "      <th>Editor</th>\n",
              "      <th>Meeting Name</th>\n",
              "      <th>Meeting Location</th>\n",
              "      <th>Conference Name</th>\n",
              "    </tr>\n",
              "  </thead>\n",
              "  <tbody>\n",
              "    <tr>\n",
              "      <th>113</th>\n",
              "      <td>FKDHS8XD</td>\n",
              "      <td>bookSection</td>\n",
              "      <td>1978</td>\n",
              "      <td>Reynolds, L.; Mez-Dombkowski, E.</td>\n",
              "      <td>Reynolds, L.</td>\n",
              "      <td>Mez-Dombkowski, E.</td>\n",
              "      <td>NaN</td>\n",
              "      <td>NaN</td>\n",
              "      <td>NaN</td>\n",
              "      <td>NaN</td>\n",
              "      <td>...</td>\n",
              "      <td>NaN</td>\n",
              "      <td>0.0</td>\n",
              "      <td>NaN</td>\n",
              "      <td>book article</td>\n",
              "      <td>NaN</td>\n",
              "      <td>NaN</td>\n",
              "      <td>Morin, YC</td>\n",
              "      <td>LSRL06</td>\n",
              "      <td>Université de Québec à Montréal</td>\n",
              "      <td>Linguistic Symposium on Romance Languages</td>\n",
              "    </tr>\n",
              "    <tr>\n",
              "      <th>116</th>\n",
              "      <td>LVXHD7LB</td>\n",
              "      <td>bookSection</td>\n",
              "      <td>1978</td>\n",
              "      <td>Saltarelli, M.</td>\n",
              "      <td>Saltarelli, M.</td>\n",
              "      <td>NaN</td>\n",
              "      <td>NaN</td>\n",
              "      <td>NaN</td>\n",
              "      <td>NaN</td>\n",
              "      <td>NaN</td>\n",
              "      <td>...</td>\n",
              "      <td>NaN</td>\n",
              "      <td>0.0</td>\n",
              "      <td>NaN</td>\n",
              "      <td>book article</td>\n",
              "      <td>NaN</td>\n",
              "      <td>NaN</td>\n",
              "      <td>Morin, YC</td>\n",
              "      <td>LSRL06</td>\n",
              "      <td>Université de Québec à Montréal</td>\n",
              "      <td>Linguistic Symposium on Romance Languages</td>\n",
              "    </tr>\n",
              "    <tr>\n",
              "      <th>117</th>\n",
              "      <td>WDK32N3G</td>\n",
              "      <td>bookSection</td>\n",
              "      <td>1978</td>\n",
              "      <td>Walker, D.</td>\n",
              "      <td>Walker, D.</td>\n",
              "      <td>NaN</td>\n",
              "      <td>NaN</td>\n",
              "      <td>NaN</td>\n",
              "      <td>NaN</td>\n",
              "      <td>NaN</td>\n",
              "      <td>...</td>\n",
              "      <td>NaN</td>\n",
              "      <td>0.0</td>\n",
              "      <td>NaN</td>\n",
              "      <td>book article</td>\n",
              "      <td>NaN</td>\n",
              "      <td>NaN</td>\n",
              "      <td>Morin, YC</td>\n",
              "      <td>LSRL06</td>\n",
              "      <td>Université de Québec à Montréal</td>\n",
              "      <td>Linguistic Symposium on Romance Languages</td>\n",
              "    </tr>\n",
              "    <tr>\n",
              "      <th>118</th>\n",
              "      <td>2GV9EJBE</td>\n",
              "      <td>bookSection</td>\n",
              "      <td>1978</td>\n",
              "      <td>Stead, D.</td>\n",
              "      <td>Stead, D.</td>\n",
              "      <td>NaN</td>\n",
              "      <td>NaN</td>\n",
              "      <td>NaN</td>\n",
              "      <td>NaN</td>\n",
              "      <td>NaN</td>\n",
              "      <td>...</td>\n",
              "      <td>NaN</td>\n",
              "      <td>0.0</td>\n",
              "      <td>NaN</td>\n",
              "      <td>book article</td>\n",
              "      <td>NaN</td>\n",
              "      <td>NaN</td>\n",
              "      <td>Morin, YC</td>\n",
              "      <td>LSRL06</td>\n",
              "      <td>Université de Québec à Montréal</td>\n",
              "      <td>Linguistic Symposium on Romance Languages</td>\n",
              "    </tr>\n",
              "    <tr>\n",
              "      <th>121</th>\n",
              "      <td>YHESVZTV</td>\n",
              "      <td>bookSection</td>\n",
              "      <td>1978</td>\n",
              "      <td>Ford, A.</td>\n",
              "      <td>Ford, A.</td>\n",
              "      <td>NaN</td>\n",
              "      <td>NaN</td>\n",
              "      <td>NaN</td>\n",
              "      <td>NaN</td>\n",
              "      <td>NaN</td>\n",
              "      <td>...</td>\n",
              "      <td>NaN</td>\n",
              "      <td>0.0</td>\n",
              "      <td>NaN</td>\n",
              "      <td>book article</td>\n",
              "      <td>NaN</td>\n",
              "      <td>NaN</td>\n",
              "      <td>Morin, YC</td>\n",
              "      <td>LSRL06</td>\n",
              "      <td>Université de Québec à Montréal</td>\n",
              "      <td>Linguistic Symposium on Romance Languages</td>\n",
              "    </tr>\n",
              "    <tr>\n",
              "      <th>126</th>\n",
              "      <td>6IFXAMKH</td>\n",
              "      <td>bookSection</td>\n",
              "      <td>1978</td>\n",
              "      <td>Luján, M.</td>\n",
              "      <td>Luján, M.</td>\n",
              "      <td>NaN</td>\n",
              "      <td>NaN</td>\n",
              "      <td>NaN</td>\n",
              "      <td>NaN</td>\n",
              "      <td>NaN</td>\n",
              "      <td>...</td>\n",
              "      <td>NaN</td>\n",
              "      <td>102.0</td>\n",
              "      <td>NaN</td>\n",
              "      <td>book article</td>\n",
              "      <td>NaN</td>\n",
              "      <td>NaN</td>\n",
              "      <td>Morin, YC</td>\n",
              "      <td>LSRL06</td>\n",
              "      <td>Université de Québec à Montréal</td>\n",
              "      <td>Linguistic Symposium on Romance Languages</td>\n",
              "    </tr>\n",
              "  </tbody>\n",
              "</table>\n",
              "<p>6 rows × 44 columns</p>\n",
              "</div>\n",
              "      <button class=\"colab-df-convert\" onclick=\"convertToInteractive('df-80e519a0-18da-4788-a535-7709573c8431')\"\n",
              "              title=\"Convert this dataframe to an interactive table.\"\n",
              "              style=\"display:none;\">\n",
              "        \n",
              "  <svg xmlns=\"http://www.w3.org/2000/svg\" height=\"24px\"viewBox=\"0 0 24 24\"\n",
              "       width=\"24px\">\n",
              "    <path d=\"M0 0h24v24H0V0z\" fill=\"none\"/>\n",
              "    <path d=\"M18.56 5.44l.94 2.06.94-2.06 2.06-.94-2.06-.94-.94-2.06-.94 2.06-2.06.94zm-11 1L8.5 8.5l.94-2.06 2.06-.94-2.06-.94L8.5 2.5l-.94 2.06-2.06.94zm10 10l.94 2.06.94-2.06 2.06-.94-2.06-.94-.94-2.06-.94 2.06-2.06.94z\"/><path d=\"M17.41 7.96l-1.37-1.37c-.4-.4-.92-.59-1.43-.59-.52 0-1.04.2-1.43.59L10.3 9.45l-7.72 7.72c-.78.78-.78 2.05 0 2.83L4 21.41c.39.39.9.59 1.41.59.51 0 1.02-.2 1.41-.59l7.78-7.78 2.81-2.81c.8-.78.8-2.07 0-2.86zM5.41 20L4 18.59l7.72-7.72 1.47 1.35L5.41 20z\"/>\n",
              "  </svg>\n",
              "      </button>\n",
              "      \n",
              "  <style>\n",
              "    .colab-df-container {\n",
              "      display:flex;\n",
              "      flex-wrap:wrap;\n",
              "      gap: 12px;\n",
              "    }\n",
              "\n",
              "    .colab-df-convert {\n",
              "      background-color: #E8F0FE;\n",
              "      border: none;\n",
              "      border-radius: 50%;\n",
              "      cursor: pointer;\n",
              "      display: none;\n",
              "      fill: #1967D2;\n",
              "      height: 32px;\n",
              "      padding: 0 0 0 0;\n",
              "      width: 32px;\n",
              "    }\n",
              "\n",
              "    .colab-df-convert:hover {\n",
              "      background-color: #E2EBFA;\n",
              "      box-shadow: 0px 1px 2px rgba(60, 64, 67, 0.3), 0px 1px 3px 1px rgba(60, 64, 67, 0.15);\n",
              "      fill: #174EA6;\n",
              "    }\n",
              "\n",
              "    [theme=dark] .colab-df-convert {\n",
              "      background-color: #3B4455;\n",
              "      fill: #D2E3FC;\n",
              "    }\n",
              "\n",
              "    [theme=dark] .colab-df-convert:hover {\n",
              "      background-color: #434B5C;\n",
              "      box-shadow: 0px 1px 3px 1px rgba(0, 0, 0, 0.15);\n",
              "      filter: drop-shadow(0px 1px 2px rgba(0, 0, 0, 0.3));\n",
              "      fill: #FFFFFF;\n",
              "    }\n",
              "  </style>\n",
              "\n",
              "      <script>\n",
              "        const buttonEl =\n",
              "          document.querySelector('#df-80e519a0-18da-4788-a535-7709573c8431 button.colab-df-convert');\n",
              "        buttonEl.style.display =\n",
              "          google.colab.kernel.accessAllowed ? 'block' : 'none';\n",
              "\n",
              "        async function convertToInteractive(key) {\n",
              "          const element = document.querySelector('#df-80e519a0-18da-4788-a535-7709573c8431');\n",
              "          const dataTable =\n",
              "            await google.colab.kernel.invokeFunction('convertToInteractive',\n",
              "                                                     [key], {});\n",
              "          if (!dataTable) return;\n",
              "\n",
              "          const docLinkHtml = 'Like what you see? Visit the ' +\n",
              "            '<a target=\"_blank\" href=https://colab.research.google.com/notebooks/data_table.ipynb>data table notebook</a>'\n",
              "            + ' to learn more about interactive tables.';\n",
              "          element.innerHTML = '';\n",
              "          dataTable['output_type'] = 'display_data';\n",
              "          await google.colab.output.renderOutput(dataTable, element);\n",
              "          const docLink = document.createElement('div');\n",
              "          docLink.innerHTML = docLinkHtml;\n",
              "          element.appendChild(docLink);\n",
              "        }\n",
              "      </script>\n",
              "    </div>\n",
              "  </div>\n",
              "  "
            ]
          },
          "metadata": {},
          "execution_count": 16
        }
      ]
    },
    {
      "cell_type": "code",
      "source": [
        "# Remove duplicates\n",
        "df = df.drop_duplicates(subset = ['key'])\n",
        "df.shape"
      ],
      "metadata": {
        "colab": {
          "base_uri": "https://localhost:8080/"
        },
        "id": "EA4S1cICs9AU",
        "outputId": "155b319b-1548-4af2-df89-b38b6d4bddda"
      },
      "execution_count": 17,
      "outputs": [
        {
          "output_type": "execute_result",
          "data": {
            "text/plain": [
              "(1057, 44)"
            ]
          },
          "metadata": {},
          "execution_count": 17
        }
      ]
    },
    {
      "cell_type": "markdown",
      "source": [
        "### 3. Fix page numbers"
      ],
      "metadata": {
        "id": "U9xJxGPutBGh"
      }
    },
    {
      "cell_type": "code",
      "source": [
        "# Fix date issue \n",
        "\n",
        "# abbreviated months\n",
        "months = ['Jan', 'Feb', 'Mar', 'Apr', 'May', 'Jun', 'Jul', 'Aug', 'Sep', 'Oct', 'Nov', 'Dec']\n",
        "\n",
        "# fill null values with -1 \n",
        "df1 = df[['Begin Page', 'End Page']].fillna(value = '-1')\n",
        "\n",
        "# if endpage has month then swap and put into new columns: 11-jan to jan-11 - so now only beginpage has month\n",
        "df1['beginpage'] = np.where(df1['End Page'].isin(months), df1['End Page'], df1['Begin Page'])\n",
        "df1['endpage'] = np.where(df1['End Page'].isin(months), df1['Begin Page'], df1['End Page'])\n",
        "\n",
        "# if see month in startpage replace with numbers\n",
        "for i,val in enumerate(months):\n",
        "     df1['beginpage'] = df1['beginpage'].replace(val, str(i+1))"
      ],
      "metadata": {
        "id": "IDEfme0-tNOa"
      },
      "execution_count": 18,
      "outputs": []
    },
    {
      "cell_type": "code",
      "source": [
        "# Add truncated 1st number to end pages\n",
        "df1['endpage'] = np.where(df1['beginpage'].astype('int') > df1['endpage'].astype('int'), \n",
        "                          df1['beginpage'].astype('string').str[:1] + df1['endpage'].astype('string') , df1['endpage'].astype('string'))"
      ],
      "metadata": {
        "id": "IB0pS6cBtSOG"
      },
      "execution_count": 19,
      "outputs": []
    },
    {
      "cell_type": "code",
      "source": [
        "# replace Pages column\n",
        "df1['Pages'] = df1['beginpage'].astype('string') + \"-\" + df1['endpage'].astype('string')"
      ],
      "metadata": {
        "id": "7MpHaTYUtV67"
      },
      "execution_count": 20,
      "outputs": []
    },
    {
      "cell_type": "code",
      "source": [
        "# fill in num pages column\n",
        "df1['Num Pages'] = df1['endpage'].astype('int') - df1['beginpage'].astype('int')"
      ],
      "metadata": {
        "id": "odDr618jtY9S"
      },
      "execution_count": 21,
      "outputs": []
    },
    {
      "cell_type": "code",
      "source": [
        "# replace and add to new data frame\n",
        "df2 = df.copy()\n",
        "df2['Pages'] = df1['Pages']\n",
        "df2['Begin Page'] = df1['beginpage']\n",
        "df2['End Page'] = df1['endpage']\n",
        "df2.insert(loc = (df2.columns.get_loc('End Page')+1), column = 'Num Pages', value = df1['Num Pages'])"
      ],
      "metadata": {
        "id": "kLSFL5k2tb3Y"
      },
      "execution_count": 22,
      "outputs": []
    },
    {
      "cell_type": "code",
      "source": [
        "# replace null values with \"\"\n",
        "df2 = df2.replace('-1', '')\n",
        "df2 = df2.replace('-1--1', '')\n",
        "df2 = df2.fillna(value = '')"
      ],
      "metadata": {
        "id": "qskFVCJQ83xN"
      },
      "execution_count": 23,
      "outputs": []
    },
    {
      "cell_type": "code",
      "source": [
        "# grab values from df\n",
        "values = [df2.columns.values.tolist()] + df2.values.tolist()\n",
        "\n",
        "# update worksheet\n",
        "#wsResults = sheet.add_worksheet(title=\"Results\", rows=1500, cols=50)\n",
        "wsResults = sheet.get_worksheet(1)\n",
        "wsResults.update(None, values)"
      ],
      "metadata": {
        "colab": {
          "base_uri": "https://localhost:8080/"
        },
        "id": "TB9yLYF2bHd9",
        "outputId": "4c6bb57f-8500-4907-9c49-c2c1017134df"
      },
      "execution_count": 24,
      "outputs": [
        {
          "output_type": "execute_result",
          "data": {
            "text/plain": [
              "{'spreadsheetId': '1g81DRB2T954vR6ibqA8ngYdlD5nuoRlsifLKPRLAV6k',\n",
              " 'updatedRange': 'Cleaned!A1:AS1058',\n",
              " 'updatedRows': 1058,\n",
              " 'updatedColumns': 45,\n",
              " 'updatedCells': 47610}"
            ]
          },
          "metadata": {},
          "execution_count": 24
        }
      ]
    },
    {
      "cell_type": "markdown",
      "source": [
        "## Fun Part! "
      ],
      "metadata": {
        "id": "b_vSJq5It3SB"
      }
    },
    {
      "cell_type": "markdown",
      "source": [
        "### Titles\n",
        "- avg length of titles\n",
        "- longest title\n",
        "- shortest title\n",
        "- search articles that include a certain word\n",
        "- counts of unique titles\n",
        "- most common words used in titles"
      ],
      "metadata": {
        "id": "-bWcm6ICt7MX"
      }
    },
    {
      "cell_type": "code",
      "source": [],
      "metadata": {
        "id": "Z4TVpKVPt6dG"
      },
      "execution_count": 24,
      "outputs": []
    },
    {
      "cell_type": "markdown",
      "source": [],
      "metadata": {
        "id": "BAqD7HRHt6vM"
      }
    }
  ],
  "metadata": {
    "colab": {
      "provenance": [],
      "include_colab_link": true
    },
    "kernelspec": {
      "display_name": "Python 3 (ipykernel)",
      "language": "python",
      "name": "python3"
    },
    "language_info": {
      "codemirror_mode": {
        "name": "ipython",
        "version": 3
      },
      "file_extension": ".py",
      "mimetype": "text/x-python",
      "name": "python",
      "nbconvert_exporter": "python",
      "pygments_lexer": "ipython3",
      "version": "3.9.7"
    }
  },
  "nbformat": 4,
  "nbformat_minor": 0
}