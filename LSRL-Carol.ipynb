{
 "cells": [
  {
   "cell_type": "markdown",
   "metadata": {},
   "source": [
    "# LSRL Code"
   ]
  },
  {
   "cell_type": "code",
   "execution_count": 1,
   "metadata": {},
   "outputs": [],
   "source": [
    "import pandas as pd\n",
    "import nltk\n",
    "import numpy as np"
   ]
  },
  {
   "cell_type": "code",
   "execution_count": 2,
   "metadata": {},
   "outputs": [],
   "source": [
    "import bs4\n",
    "import string"
   ]
  },
  {
   "cell_type": "code",
   "execution_count": 3,
   "metadata": {},
   "outputs": [],
   "source": [
    "from collections import Counter"
   ]
  },
  {
   "cell_type": "code",
   "execution_count": 7,
   "metadata": {},
   "outputs": [],
   "source": [
    "from nltk.corpus import stopwords"
   ]
  },
  {
   "cell_type": "code",
   "execution_count": 8,
   "metadata": {},
   "outputs": [],
   "source": [
    "stopword = stopwords.words('english')\n",
    "\n",
    "from string import punctuation"
   ]
  },
  {
   "cell_type": "code",
   "execution_count": 9,
   "metadata": {},
   "outputs": [],
   "source": [
    "\n",
    "from nltk.tokenize import sent_tokenize, word_tokenize\n",
    "from nltk.stem import WordNetLemmatizer\n",
    "from nltk.stem.porter import PorterStemmer"
   ]
  },
  {
   "cell_type": "markdown",
   "metadata": {},
   "source": [
    "## Useful Functions"
   ]
  },
  {
   "cell_type": "code",
   "execution_count": 10,
   "metadata": {},
   "outputs": [],
   "source": [
    "#create data frame\n",
    "df = pd.read_excel('LSRL_Master2.xlsx')"
   ]
  },
  {
   "cell_type": "code",
   "execution_count": 11,
   "metadata": {},
   "outputs": [
    {
     "data": {
      "text/plain": [
       "0        2.0\n",
       "1        5.0\n",
       "2       14.0\n",
       "3       17.0\n",
       "4       18.0\n",
       "        ... \n",
       "1045     NaN\n",
       "1046     NaN\n",
       "1047     NaN\n",
       "1048     NaN\n",
       "1049     NaN\n",
       "Name: Extra, Length: 1050, dtype: float64"
      ]
     },
     "execution_count": 11,
     "metadata": {},
     "output_type": "execute_result"
    }
   ],
   "source": [
    "# Access one column\n",
    "# take a look at the citation counts, for instance\n",
    "df['Extra'] "
   ]
  },
  {
   "cell_type": "code",
   "execution_count": 12,
   "metadata": {},
   "outputs": [
    {
     "data": {
      "text/plain": [
       "                     object\n",
       "Item Type            object\n",
       "Publication Year      int64\n",
       "Author               object\n",
       "Author 1             object\n",
       "                     ...   \n",
       "Section             float64\n",
       "Session             float64\n",
       "Committee           float64\n",
       "History             float64\n",
       "Legislative Body    float64\n",
       "Length: 100, dtype: object"
      ]
     },
     "execution_count": 12,
     "metadata": {},
     "output_type": "execute_result"
    }
   ],
   "source": [
    "#what is the type of each column\n",
    "df.dtypes "
   ]
  },
  {
   "cell_type": "code",
   "execution_count": 13,
   "metadata": {},
   "outputs": [
    {
     "data": {
      "text/plain": [
       "(1050, 100)"
      ]
     },
     "execution_count": 13,
     "metadata": {},
     "output_type": "execute_result"
    }
   ],
   "source": [
    "# overall size of the sheet\n",
    "df.shape"
   ]
  },
  {
   "cell_type": "code",
   "execution_count": 14,
   "metadata": {},
   "outputs": [],
   "source": [
    "# remove rows using .drop()\n",
    "# df1.drop([246, 247, 250, 255], axis = 0, inplace = True) "
   ]
  },
  {
   "cell_type": "code",
   "execution_count": 15,
   "metadata": {},
   "outputs": [
    {
     "data": {
      "text/html": [
       "<div>\n",
       "<style scoped>\n",
       "    .dataframe tbody tr th:only-of-type {\n",
       "        vertical-align: middle;\n",
       "    }\n",
       "\n",
       "    .dataframe tbody tr th {\n",
       "        vertical-align: top;\n",
       "    }\n",
       "\n",
       "    .dataframe thead th {\n",
       "        text-align: right;\n",
       "    }\n",
       "</style>\n",
       "<table border=\"1\" class=\"dataframe\">\n",
       "  <thead>\n",
       "    <tr style=\"text-align: right;\">\n",
       "      <th></th>\n",
       "      <th></th>\n",
       "      <th>Item Type</th>\n",
       "      <th>Publication Year</th>\n",
       "      <th>Author</th>\n",
       "      <th>Author 1</th>\n",
       "      <th>Author 2</th>\n",
       "      <th>Author 3</th>\n",
       "      <th>Author 4</th>\n",
       "      <th>Author 5</th>\n",
       "      <th>Author 6</th>\n",
       "      <th>...</th>\n",
       "      <th>Programming Language</th>\n",
       "      <th>Version</th>\n",
       "      <th>System</th>\n",
       "      <th>Code</th>\n",
       "      <th>Code Number</th>\n",
       "      <th>Section</th>\n",
       "      <th>Session</th>\n",
       "      <th>Committee</th>\n",
       "      <th>History</th>\n",
       "      <th>Legislative Body</th>\n",
       "    </tr>\n",
       "  </thead>\n",
       "  <tbody>\n",
       "    <tr>\n",
       "      <th>0</th>\n",
       "      <td>X2ZH3HVJ</td>\n",
       "      <td>bookSection</td>\n",
       "      <td>1972</td>\n",
       "      <td>Rankin, Robert L.</td>\n",
       "      <td>Rankin, Robert L.</td>\n",
       "      <td>NaN</td>\n",
       "      <td>NaN</td>\n",
       "      <td>NaN</td>\n",
       "      <td>NaN</td>\n",
       "      <td>NaN</td>\n",
       "      <td>...</td>\n",
       "      <td>NaN</td>\n",
       "      <td>NaN</td>\n",
       "      <td>NaN</td>\n",
       "      <td>NaN</td>\n",
       "      <td>NaN</td>\n",
       "      <td>NaN</td>\n",
       "      <td>NaN</td>\n",
       "      <td>NaN</td>\n",
       "      <td>NaN</td>\n",
       "      <td>NaN</td>\n",
       "    </tr>\n",
       "    <tr>\n",
       "      <th>1</th>\n",
       "      <td>63PPTCP7</td>\n",
       "      <td>bookSection</td>\n",
       "      <td>1972</td>\n",
       "      <td>Saltarelli, Mario</td>\n",
       "      <td>Saltarelli, Mario</td>\n",
       "      <td>NaN</td>\n",
       "      <td>NaN</td>\n",
       "      <td>NaN</td>\n",
       "      <td>NaN</td>\n",
       "      <td>NaN</td>\n",
       "      <td>...</td>\n",
       "      <td>NaN</td>\n",
       "      <td>NaN</td>\n",
       "      <td>NaN</td>\n",
       "      <td>NaN</td>\n",
       "      <td>NaN</td>\n",
       "      <td>NaN</td>\n",
       "      <td>NaN</td>\n",
       "      <td>NaN</td>\n",
       "      <td>NaN</td>\n",
       "      <td>NaN</td>\n",
       "    </tr>\n",
       "    <tr>\n",
       "      <th>2</th>\n",
       "      <td>8PLLMNAD</td>\n",
       "      <td>bookSection</td>\n",
       "      <td>1972</td>\n",
       "      <td>Wanner, Dieter</td>\n",
       "      <td>Wanner, Dieter</td>\n",
       "      <td>NaN</td>\n",
       "      <td>NaN</td>\n",
       "      <td>NaN</td>\n",
       "      <td>NaN</td>\n",
       "      <td>NaN</td>\n",
       "      <td>...</td>\n",
       "      <td>NaN</td>\n",
       "      <td>NaN</td>\n",
       "      <td>NaN</td>\n",
       "      <td>NaN</td>\n",
       "      <td>NaN</td>\n",
       "      <td>NaN</td>\n",
       "      <td>NaN</td>\n",
       "      <td>NaN</td>\n",
       "      <td>NaN</td>\n",
       "      <td>NaN</td>\n",
       "    </tr>\n",
       "    <tr>\n",
       "      <th>3</th>\n",
       "      <td>ABUSKF6A</td>\n",
       "      <td>bookSection</td>\n",
       "      <td>1972</td>\n",
       "      <td>Rivero, Maria-Luisa</td>\n",
       "      <td>Rivero, María-Luisa</td>\n",
       "      <td>NaN</td>\n",
       "      <td>NaN</td>\n",
       "      <td>NaN</td>\n",
       "      <td>NaN</td>\n",
       "      <td>NaN</td>\n",
       "      <td>...</td>\n",
       "      <td>NaN</td>\n",
       "      <td>NaN</td>\n",
       "      <td>NaN</td>\n",
       "      <td>NaN</td>\n",
       "      <td>NaN</td>\n",
       "      <td>NaN</td>\n",
       "      <td>NaN</td>\n",
       "      <td>NaN</td>\n",
       "      <td>NaN</td>\n",
       "      <td>NaN</td>\n",
       "    </tr>\n",
       "    <tr>\n",
       "      <th>4</th>\n",
       "      <td>H976X7J4</td>\n",
       "      <td>bookSection</td>\n",
       "      <td>1972</td>\n",
       "      <td>Meyer, Paula L.</td>\n",
       "      <td>Meyer, Paula L.</td>\n",
       "      <td>NaN</td>\n",
       "      <td>NaN</td>\n",
       "      <td>NaN</td>\n",
       "      <td>NaN</td>\n",
       "      <td>NaN</td>\n",
       "      <td>...</td>\n",
       "      <td>NaN</td>\n",
       "      <td>NaN</td>\n",
       "      <td>NaN</td>\n",
       "      <td>NaN</td>\n",
       "      <td>NaN</td>\n",
       "      <td>NaN</td>\n",
       "      <td>NaN</td>\n",
       "      <td>NaN</td>\n",
       "      <td>NaN</td>\n",
       "      <td>NaN</td>\n",
       "    </tr>\n",
       "  </tbody>\n",
       "</table>\n",
       "<p>5 rows × 100 columns</p>\n",
       "</div>"
      ],
      "text/plain": [
       "               Item Type  Publication Year               Author  \\\n",
       "0  X2ZH3HVJ  bookSection              1972    Rankin, Robert L.   \n",
       "1  63PPTCP7  bookSection              1972    Saltarelli, Mario   \n",
       "2  8PLLMNAD  bookSection              1972       Wanner, Dieter   \n",
       "3  ABUSKF6A  bookSection              1972  Rivero, Maria-Luisa   \n",
       "4  H976X7J4  bookSection              1972      Meyer, Paula L.   \n",
       "\n",
       "              Author 1 Author 2 Author 3 Author 4 Author 5 Author 6  ...  \\\n",
       "0    Rankin, Robert L.      NaN      NaN      NaN      NaN      NaN  ...   \n",
       "1    Saltarelli, Mario      NaN      NaN      NaN      NaN      NaN  ...   \n",
       "2       Wanner, Dieter      NaN      NaN      NaN      NaN      NaN  ...   \n",
       "3  Rivero, María-Luisa      NaN      NaN      NaN      NaN      NaN  ...   \n",
       "4      Meyer, Paula L.      NaN      NaN      NaN      NaN      NaN  ...   \n",
       "\n",
       "  Programming Language Version System Code Code Number Section Session  \\\n",
       "0                  NaN     NaN    NaN  NaN         NaN     NaN     NaN   \n",
       "1                  NaN     NaN    NaN  NaN         NaN     NaN     NaN   \n",
       "2                  NaN     NaN    NaN  NaN         NaN     NaN     NaN   \n",
       "3                  NaN     NaN    NaN  NaN         NaN     NaN     NaN   \n",
       "4                  NaN     NaN    NaN  NaN         NaN     NaN     NaN   \n",
       "\n",
       "   Committee History  Legislative Body  \n",
       "0        NaN     NaN               NaN  \n",
       "1        NaN     NaN               NaN  \n",
       "2        NaN     NaN               NaN  \n",
       "3        NaN     NaN               NaN  \n",
       "4        NaN     NaN               NaN  \n",
       "\n",
       "[5 rows x 100 columns]"
      ]
     },
     "execution_count": 15,
     "metadata": {},
     "output_type": "execute_result"
    }
   ],
   "source": [
    "# gives first five rows\n",
    "df.head()"
   ]
  },
  {
   "cell_type": "code",
   "execution_count": 16,
   "metadata": {},
   "outputs": [
    {
     "data": {
      "text/plain": [
       "                                 5P6HKL9W\n",
       "Item Type                  journalArticle\n",
       "Publication Year                     1984\n",
       "Author              Callahan, Christopher\n",
       "Author 1            Callahan, Christopher\n",
       "                            ...          \n",
       "Section                               NaN\n",
       "Session                               NaN\n",
       "Committee                             NaN\n",
       "History                               NaN\n",
       "Legislative Body                      NaN\n",
       "Name: 254, Length: 100, dtype: object"
      ]
     },
     "execution_count": 16,
     "metadata": {},
     "output_type": "execute_result"
    }
   ],
   "source": [
    "# all the details about this one row\n",
    "df.loc[254]"
   ]
  },
  {
   "cell_type": "markdown",
   "metadata": {},
   "source": [
    "## Clean up sheet"
   ]
  },
  {
   "cell_type": "markdown",
   "metadata": {},
   "source": [
    "### 1. Removing null columns"
   ]
  },
  {
   "cell_type": "code",
   "execution_count": 17,
   "metadata": {},
   "outputs": [],
   "source": [
    "# drop all columns (axis = 1) with all null values\n",
    "# make it a copy to avoid SettingwithCopyWarning\n",
    "df1 = df.dropna(axis = 1, how = 'all').copy() "
   ]
  },
  {
   "cell_type": "code",
   "execution_count": 18,
   "metadata": {},
   "outputs": [
    {
     "data": {
      "text/plain": [
       "(1050, 43)"
      ]
     },
     "execution_count": 18,
     "metadata": {},
     "output_type": "execute_result"
    }
   ],
   "source": [
    "# new sheet has 43 columns\n",
    "df1.shape"
   ]
  },
  {
   "cell_type": "code",
   "execution_count": 19,
   "metadata": {},
   "outputs": [
    {
     "data": {
      "text/plain": [
       "                                                                 DJMASDT6\n",
       "Item Type                                                 conferencePaper\n",
       "Publication Year                                                     2020\n",
       "Author                                             Vera, Gabriel Martínez\n",
       "Author 1                                           Vera, Gabriel Martínez\n",
       "Author 2                                                              NaN\n",
       "Author 3                                                              NaN\n",
       "Author 4                                                              NaN\n",
       "Author 5                                                              NaN\n",
       "Author 6                                                              NaN\n",
       "Title                   On recomplementation, high adverbs and V-movem...\n",
       "key                     On recomplementation, high adverbs and V-movem...\n",
       "Abstract                I address the structure of the Spanish left pe...\n",
       "doi url                             https://doi.org/10.1075/rllt.16.12mar\n",
       "Publication Title              Romance Languages and Linguistic Theory 16\n",
       "ISBN                                             978-90-272-0555-1 (hbk.)\n",
       "ISSN                                                                  NaN\n",
       "Url                                                                   NaN\n",
       "Date                                                               2020.0\n",
       "Date Added                                                            NaT\n",
       "Date Modified                                                         NaT\n",
       "Pages                                                             187-202\n",
       "Begin Page                                                            187\n",
       "End Page                                                              202\n",
       "Issue                                                             vi, 278\n",
       "Volume                                                               16.0\n",
       "Number Of Volumes                                                     NaN\n",
       "Journal Abbreviation                                                  NaN\n",
       "Series                        Romance Languages and Linguistic Theory: 16\n",
       "Publisher                               John Benjamins Publishing Company\n",
       "Place                                                                 NaN\n",
       "Language                                                              NaN\n",
       "Archive                                                               NaN\n",
       "Library Catalog                                            Google Scholar\n",
       "Extra                                                                 NaN\n",
       "Notes                                                                 NaN\n",
       "Publication Type 2                                                    NaN\n",
       "File Attachments        /Users/bb25848/Zotero/storage/5XL88Y45/books.html\n",
       "Manual Tags             complementizer; left periphery; phases; adverb...\n",
       "Editor                                                       Irene Vogel \n",
       "Meeting Name                                                       LSRL47\n",
       "Meeting Location                                   Univeristy of Delaware\n",
       "Conference Name                 Linguistic Symposium on Romance Languages\n",
       "Name: 1034, dtype: object"
      ]
     },
     "execution_count": 19,
     "metadata": {},
     "output_type": "execute_result"
    }
   ],
   "source": [
    "# remove rows with no publications\n",
    "df1['key'].isnull().sum() # total 15 publications (2022)\n",
    "df1.dropna(subset = ['key'], inplace = True) # remove them for now\n",
    "df1.loc[len(df1)-1] # get the last item should be Gabriel Martínez"
   ]
  },
  {
   "cell_type": "code",
   "execution_count": 20,
   "metadata": {},
   "outputs": [
    {
     "data": {
      "text/plain": [
       "(1035, 43)"
      ]
     },
     "execution_count": 20,
     "metadata": {},
     "output_type": "execute_result"
    }
   ],
   "source": [
    "# new sheet has 1034 rows\n",
    "df1.shape"
   ]
  },
  {
   "cell_type": "markdown",
   "metadata": {},
   "source": [
    "### 2. Finding and removing duplicates"
   ]
  },
  {
   "cell_type": "code",
   "execution_count": 21,
   "metadata": {},
   "outputs": [
    {
     "data": {
      "text/html": [
       "<div>\n",
       "<style scoped>\n",
       "    .dataframe tbody tr th:only-of-type {\n",
       "        vertical-align: middle;\n",
       "    }\n",
       "\n",
       "    .dataframe tbody tr th {\n",
       "        vertical-align: top;\n",
       "    }\n",
       "\n",
       "    .dataframe thead th {\n",
       "        text-align: right;\n",
       "    }\n",
       "</style>\n",
       "<table border=\"1\" class=\"dataframe\">\n",
       "  <thead>\n",
       "    <tr style=\"text-align: right;\">\n",
       "      <th></th>\n",
       "      <th></th>\n",
       "      <th>Item Type</th>\n",
       "      <th>Publication Year</th>\n",
       "      <th>Author</th>\n",
       "      <th>Author 1</th>\n",
       "      <th>Author 2</th>\n",
       "      <th>Author 3</th>\n",
       "      <th>Author 4</th>\n",
       "      <th>Author 5</th>\n",
       "      <th>Author 6</th>\n",
       "      <th>...</th>\n",
       "      <th>Library Catalog</th>\n",
       "      <th>Extra</th>\n",
       "      <th>Notes</th>\n",
       "      <th>Publication Type 2</th>\n",
       "      <th>File Attachments</th>\n",
       "      <th>Manual Tags</th>\n",
       "      <th>Editor</th>\n",
       "      <th>Meeting Name</th>\n",
       "      <th>Meeting Location</th>\n",
       "      <th>Conference Name</th>\n",
       "    </tr>\n",
       "  </thead>\n",
       "  <tbody>\n",
       "    <tr>\n",
       "      <th>113</th>\n",
       "      <td>FKDHS8XD</td>\n",
       "      <td>bookSection</td>\n",
       "      <td>1978</td>\n",
       "      <td>Reynolds, L.; Mez-Dombkowski, E.</td>\n",
       "      <td>Reynolds, L.</td>\n",
       "      <td>Mez-Dombkowski, E.</td>\n",
       "      <td>NaN</td>\n",
       "      <td>NaN</td>\n",
       "      <td>NaN</td>\n",
       "      <td>NaN</td>\n",
       "      <td>...</td>\n",
       "      <td>NaN</td>\n",
       "      <td>0.0</td>\n",
       "      <td>NaN</td>\n",
       "      <td>book article</td>\n",
       "      <td>NaN</td>\n",
       "      <td>NaN</td>\n",
       "      <td>Morin, YC</td>\n",
       "      <td>LSRL06</td>\n",
       "      <td>Université de Québec à Montréal</td>\n",
       "      <td>Linguistic Symposium on Romance Languages</td>\n",
       "    </tr>\n",
       "    <tr>\n",
       "      <th>116</th>\n",
       "      <td>LVXHD7LB</td>\n",
       "      <td>bookSection</td>\n",
       "      <td>1978</td>\n",
       "      <td>Saltarelli, M.</td>\n",
       "      <td>Saltarelli, M.</td>\n",
       "      <td>NaN</td>\n",
       "      <td>NaN</td>\n",
       "      <td>NaN</td>\n",
       "      <td>NaN</td>\n",
       "      <td>NaN</td>\n",
       "      <td>...</td>\n",
       "      <td>NaN</td>\n",
       "      <td>0.0</td>\n",
       "      <td>NaN</td>\n",
       "      <td>book article</td>\n",
       "      <td>NaN</td>\n",
       "      <td>NaN</td>\n",
       "      <td>Morin, YC</td>\n",
       "      <td>LSRL06</td>\n",
       "      <td>Université de Québec à Montréal</td>\n",
       "      <td>Linguistic Symposium on Romance Languages</td>\n",
       "    </tr>\n",
       "    <tr>\n",
       "      <th>117</th>\n",
       "      <td>WDK32N3G</td>\n",
       "      <td>bookSection</td>\n",
       "      <td>1978</td>\n",
       "      <td>Walker, D.</td>\n",
       "      <td>Walker, D.</td>\n",
       "      <td>NaN</td>\n",
       "      <td>NaN</td>\n",
       "      <td>NaN</td>\n",
       "      <td>NaN</td>\n",
       "      <td>NaN</td>\n",
       "      <td>...</td>\n",
       "      <td>NaN</td>\n",
       "      <td>0.0</td>\n",
       "      <td>NaN</td>\n",
       "      <td>book article</td>\n",
       "      <td>NaN</td>\n",
       "      <td>NaN</td>\n",
       "      <td>Morin, YC</td>\n",
       "      <td>LSRL06</td>\n",
       "      <td>Université de Québec à Montréal</td>\n",
       "      <td>Linguistic Symposium on Romance Languages</td>\n",
       "    </tr>\n",
       "    <tr>\n",
       "      <th>118</th>\n",
       "      <td>2GV9EJBE</td>\n",
       "      <td>bookSection</td>\n",
       "      <td>1978</td>\n",
       "      <td>Stead, D.</td>\n",
       "      <td>Stead, D.</td>\n",
       "      <td>NaN</td>\n",
       "      <td>NaN</td>\n",
       "      <td>NaN</td>\n",
       "      <td>NaN</td>\n",
       "      <td>NaN</td>\n",
       "      <td>...</td>\n",
       "      <td>NaN</td>\n",
       "      <td>0.0</td>\n",
       "      <td>NaN</td>\n",
       "      <td>book article</td>\n",
       "      <td>NaN</td>\n",
       "      <td>NaN</td>\n",
       "      <td>Morin, YC</td>\n",
       "      <td>LSRL06</td>\n",
       "      <td>Université de Québec à Montréal</td>\n",
       "      <td>Linguistic Symposium on Romance Languages</td>\n",
       "    </tr>\n",
       "    <tr>\n",
       "      <th>121</th>\n",
       "      <td>YHESVZTV</td>\n",
       "      <td>bookSection</td>\n",
       "      <td>1978</td>\n",
       "      <td>Ford, A.</td>\n",
       "      <td>Ford, A.</td>\n",
       "      <td>NaN</td>\n",
       "      <td>NaN</td>\n",
       "      <td>NaN</td>\n",
       "      <td>NaN</td>\n",
       "      <td>NaN</td>\n",
       "      <td>...</td>\n",
       "      <td>NaN</td>\n",
       "      <td>0.0</td>\n",
       "      <td>NaN</td>\n",
       "      <td>book article</td>\n",
       "      <td>NaN</td>\n",
       "      <td>NaN</td>\n",
       "      <td>Morin, YC</td>\n",
       "      <td>LSRL06</td>\n",
       "      <td>Université de Québec à Montréal</td>\n",
       "      <td>Linguistic Symposium on Romance Languages</td>\n",
       "    </tr>\n",
       "    <tr>\n",
       "      <th>126</th>\n",
       "      <td>6IFXAMKH</td>\n",
       "      <td>bookSection</td>\n",
       "      <td>1978</td>\n",
       "      <td>Luján, M.</td>\n",
       "      <td>Luján, M.</td>\n",
       "      <td>NaN</td>\n",
       "      <td>NaN</td>\n",
       "      <td>NaN</td>\n",
       "      <td>NaN</td>\n",
       "      <td>NaN</td>\n",
       "      <td>...</td>\n",
       "      <td>NaN</td>\n",
       "      <td>102.0</td>\n",
       "      <td>NaN</td>\n",
       "      <td>book article</td>\n",
       "      <td>NaN</td>\n",
       "      <td>NaN</td>\n",
       "      <td>Morin, YC</td>\n",
       "      <td>LSRL06</td>\n",
       "      <td>Université de Québec à Montréal</td>\n",
       "      <td>Linguistic Symposium on Romance Languages</td>\n",
       "    </tr>\n",
       "  </tbody>\n",
       "</table>\n",
       "<p>6 rows × 43 columns</p>\n",
       "</div>"
      ],
      "text/plain": [
       "                 Item Type  Publication Year  \\\n",
       "113  FKDHS8XD  bookSection              1978   \n",
       "116  LVXHD7LB  bookSection              1978   \n",
       "117  WDK32N3G  bookSection              1978   \n",
       "118  2GV9EJBE  bookSection              1978   \n",
       "121  YHESVZTV  bookSection              1978   \n",
       "126  6IFXAMKH  bookSection              1978   \n",
       "\n",
       "                               Author        Author 1             Author 2  \\\n",
       "113  Reynolds, L.; Mez-Dombkowski, E.    Reynolds, L.   Mez-Dombkowski, E.   \n",
       "116                    Saltarelli, M.  Saltarelli, M.                  NaN   \n",
       "117                        Walker, D.      Walker, D.                  NaN   \n",
       "118                         Stead, D.       Stead, D.                  NaN   \n",
       "121                          Ford, A.        Ford, A.                  NaN   \n",
       "126                         Luján, M.       Luján, M.                  NaN   \n",
       "\n",
       "    Author 3 Author 4 Author 5 Author 6  ... Library Catalog  Extra Notes  \\\n",
       "113      NaN      NaN      NaN      NaN  ...             NaN    0.0   NaN   \n",
       "116      NaN      NaN      NaN      NaN  ...             NaN    0.0   NaN   \n",
       "117      NaN      NaN      NaN      NaN  ...             NaN    0.0   NaN   \n",
       "118      NaN      NaN      NaN      NaN  ...             NaN    0.0   NaN   \n",
       "121      NaN      NaN      NaN      NaN  ...             NaN    0.0   NaN   \n",
       "126      NaN      NaN      NaN      NaN  ...             NaN  102.0   NaN   \n",
       "\n",
       "    Publication Type 2 File Attachments Manual Tags     Editor Meeting Name  \\\n",
       "113       book article              NaN         NaN  Morin, YC       LSRL06   \n",
       "116       book article              NaN         NaN  Morin, YC       LSRL06   \n",
       "117       book article              NaN         NaN  Morin, YC       LSRL06   \n",
       "118       book article              NaN         NaN  Morin, YC       LSRL06   \n",
       "121       book article              NaN         NaN  Morin, YC       LSRL06   \n",
       "126       book article              NaN         NaN  Morin, YC       LSRL06   \n",
       "\n",
       "                    Meeting Location  \\\n",
       "113  Université de Québec à Montréal   \n",
       "116  Université de Québec à Montréal   \n",
       "117  Université de Québec à Montréal   \n",
       "118  Université de Québec à Montréal   \n",
       "121  Université de Québec à Montréal   \n",
       "126  Université de Québec à Montréal   \n",
       "\n",
       "                               Conference Name  \n",
       "113  Linguistic Symposium on Romance Languages  \n",
       "116  Linguistic Symposium on Romance Languages  \n",
       "117  Linguistic Symposium on Romance Languages  \n",
       "118  Linguistic Symposium on Romance Languages  \n",
       "121  Linguistic Symposium on Romance Languages  \n",
       "126  Linguistic Symposium on Romance Languages  \n",
       "\n",
       "[6 rows x 43 columns]"
      ]
     },
     "execution_count": 21,
     "metadata": {},
     "output_type": "execute_result"
    }
   ],
   "source": [
    "# Finding duplicates\n",
    "df1[df1.duplicated(subset = ['key'])]"
   ]
  },
  {
   "cell_type": "code",
   "execution_count": 22,
   "metadata": {},
   "outputs": [
    {
     "data": {
      "text/plain": [
       "(1029, 43)"
      ]
     },
     "execution_count": 22,
     "metadata": {},
     "output_type": "execute_result"
    }
   ],
   "source": [
    "# Remove duplicates\n",
    "df1 = df1.drop_duplicates(subset = ['key'])\n",
    "df1.shape"
   ]
  },
  {
   "cell_type": "markdown",
   "metadata": {},
   "source": [
    "### 3. Fix page numbers"
   ]
  },
  {
   "cell_type": "code",
   "execution_count": 23,
   "metadata": {},
   "outputs": [],
   "source": [
    "# Fix date issue \n",
    "\n",
    "# abbreviated months\n",
    "months = ['Jan', 'Feb', 'Mar', 'Apr', 'May', 'Jun', 'Jul', 'Aug', 'Sep', 'Oct', 'Nov', 'Dec']\n",
    "\n",
    "# fill null values with -1 \n",
    "df2 = df1[['Begin Page', 'End Page']].fillna(value = '-1')\n",
    "\n",
    "# if endpage has month then swap and put into new columns: 11-jan to jan-11 - so now only beginpage has month\n",
    "df2['beginpage'] = np.where(df2['End Page'].isin(months), df2['End Page'], df2['Begin Page'])\n",
    "df2['endpage'] = np.where(df2['End Page'].isin(months), df2['Begin Page'], df2['End Page'])\n",
    "\n",
    "# if see month in startpage replace with numbers\n",
    "for i,val in enumerate(months):\n",
    "     df2['beginpage'] = df2['beginpage'].replace(val, str(i+1))"
   ]
  },
  {
   "cell_type": "code",
   "execution_count": 24,
   "metadata": {},
   "outputs": [],
   "source": [
    "# Add truncated 1st number to end pages\n",
    "df2['endpage'] = np.where(df2['beginpage'].astype('int') > df2['endpage'].astype('int'), \n",
    "                           df2['beginpage'].astype('string').str[:1] + df2['endpage'].astype('string') , df2['endpage'].astype('string'))"
   ]
  },
  {
   "cell_type": "code",
   "execution_count": 25,
   "metadata": {},
   "outputs": [],
   "source": [
    "# replace Pages column\n",
    "df2['Pages'] = df2['beginpage'].astype('string') + \"-\" + df2['endpage'].astype('string')"
   ]
  },
  {
   "cell_type": "code",
   "execution_count": 26,
   "metadata": {},
   "outputs": [],
   "source": [
    "# fill in num pages column\n",
    "df2['Num Pages'] = df2['endpage'].astype('int') - df2['beginpage'].astype('int')"
   ]
  },
  {
   "cell_type": "code",
   "execution_count": 27,
   "metadata": {},
   "outputs": [],
   "source": [
    "# replace and add to df1\n",
    "df1['Pages'] = df2['Pages']\n",
    "df1['Begin Page'] = df2['beginpage']\n",
    "df1['End Page'] = df2['endpage']\n",
    "df1.insert(loc = (df1.columns.get_loc('End Page')+1), column = 'Num Pages', value = df2['Num Pages'])"
   ]
  },
  {
   "cell_type": "markdown",
   "metadata": {},
   "source": [
    "### 4. Export to new excel!"
   ]
  },
  {
   "cell_type": "code",
   "execution_count": 28,
   "metadata": {},
   "outputs": [],
   "source": [
    "# Export cleaned sheet to folder\n",
    "# df1.to_excel('cleanedLSRL.xlsx')"
   ]
  },
  {
   "cell_type": "markdown",
   "metadata": {},
   "source": [
    "## Fun Part! "
   ]
  },
  {
   "cell_type": "code",
   "execution_count": 29,
   "metadata": {},
   "outputs": [],
   "source": [
    "# created a new dataframe -> df3 for manipulation \n",
    "df3 = pd.read_excel('cleanedLSRL.xlsx')"
   ]
  },
  {
   "cell_type": "markdown",
   "metadata": {},
   "source": [
    "### Titles\n",
    "- avg length of titles\n",
    "- longest title\n",
    "- shortest title\n",
    "- search articles that include a certain word\n",
    "- counts of unique titles\n",
    "- most common words used in titles"
   ]
  },
  {
   "cell_type": "code",
   "execution_count": 30,
   "metadata": {},
   "outputs": [
    {
     "data": {
      "text/plain": [
       "250                                Gemination In Italian\n",
       "251    Phonological Implications Of The Perception Of...\n",
       "252                           On Linear Order In Spanish\n",
       "253                                       Controlled Pro\n",
       "254    A Speech Event Analysis Of Tense And Aspect In...\n",
       "255               Resumptive Pronoun Strategy In Spanish\n",
       "256                Personal A, Kinesis And Individuation\n",
       "257    An Autosegmental Approach To Syllabification I...\n",
       "258    Theories Of Phonological Representation And Na...\n",
       "259                                       Relativization\n",
       "Name: key, dtype: object"
      ]
     },
     "execution_count": 30,
     "metadata": {},
     "output_type": "execute_result"
    }
   ],
   "source": [
    "# take a look at the titles\n",
    "df3['key'][250:260]"
   ]
  },
  {
   "cell_type": "code",
   "execution_count": 31,
   "metadata": {},
   "outputs": [
    {
     "name": "stdout",
     "output_type": "stream",
     "text": [
      "820    [rhythmic, constraints, on, the, distribution,...\n",
      "821    [subjects, and, wh-questions, :, some, new, ge...\n",
      "822    [interpretive, deficit, ?, evidence, from, the...\n",
      "823    [discontinuous, wh-constituents, in, brazilian...\n",
      "824       [syntax, and, semantics, of, split, questions]\n",
      "825    [parenthetical, null, topic, constructions, in...\n",
      "826    [the, left, edge, in, the, spanish, clausal, s...\n",
      "827    [rhotic, metathesis, asymmetries, in, romance,...\n",
      "828      [the, domain, of, palatalization, in, romanian]\n",
      "829    [putting, the, spanish, determiner, phrase, in...\n",
      "830    [romanian, palatalization, :, the, role, of, p...\n",
      "831    [proscriptions, …, gaps, …, and, something, in...\n",
      "832    [discriminating, pitch, accent, alignment, in,...\n",
      "833    [romance, paths, as, cognate, complements, :, ...\n",
      "834    [antisymmetry, and, the, typology, of, relativ...\n",
      "835    [crypto-variation, in, italian, velar, palatal...\n",
      "836            [developing, i-language, in, l1, and, l2]\n",
      "837    [licensing, negative, fragments, and, the, int...\n",
      "838    [imperfect, variation, and, class, marking, in...\n",
      "839    [correlativization, and, degree, quantificatio...\n",
      "Name: tokenized_key, dtype: object\n"
     ]
    }
   ],
   "source": [
    "# tokenize the titles and remove NaN\n",
    "# add to a new dataframe\n",
    "df3[\"tokenized_key\"] = df3[\"key\"].fillna(\"\").map(lambda x: nltk.word_tokenize(x.lower())) \n",
    "print(df3['tokenized_key'][820:840])"
   ]
  },
  {
   "cell_type": "code",
   "execution_count": 42,
   "metadata": {},
   "outputs": [
    {
     "ename": "AttributeError",
     "evalue": "'list' object has no attribute 'split'",
     "output_type": "error",
     "traceback": [
      "\u001b[0;31m---------------------------------------------------------------------------\u001b[0m",
      "\u001b[0;31mAttributeError\u001b[0m                            Traceback (most recent call last)",
      "\u001b[0;32m/var/folders/1t/wwq293ts0338xsxhk5mt_r9w0000gn/T/ipykernel_2887/1743300006.py\u001b[0m in \u001b[0;36m<module>\u001b[0;34m\u001b[0m\n\u001b[1;32m      2\u001b[0m \u001b[0mpunctuation\u001b[0m \u001b[0;34m=\u001b[0m \u001b[0mlist\u001b[0m\u001b[0;34m(\u001b[0m\u001b[0mpunctuation\u001b[0m\u001b[0;34m)\u001b[0m\u001b[0;34m\u001b[0m\u001b[0;34m\u001b[0m\u001b[0m\n\u001b[1;32m      3\u001b[0m \u001b[0;34m\u001b[0m\u001b[0m\n\u001b[0;32m----> 4\u001b[0;31m \u001b[0mdf3\u001b[0m\u001b[0;34m[\u001b[0m\u001b[0;34m\"nopunc_key\"\u001b[0m\u001b[0;34m]\u001b[0m \u001b[0;34m=\u001b[0m \u001b[0mdf3\u001b[0m\u001b[0;34m[\u001b[0m\u001b[0;34m\"tokenized_key\"\u001b[0m\u001b[0;34m]\u001b[0m\u001b[0;34m.\u001b[0m\u001b[0mmap\u001b[0m\u001b[0;34m(\u001b[0m\u001b[0;32mlambda\u001b[0m \u001b[0mx\u001b[0m\u001b[0;34m:\u001b[0m \u001b[0;34m(\u001b[0m\u001b[0mt\u001b[0m \u001b[0;32mfor\u001b[0m \u001b[0mt\u001b[0m \u001b[0;32min\u001b[0m \u001b[0mx\u001b[0m\u001b[0;34m.\u001b[0m\u001b[0msplit\u001b[0m\u001b[0;34m(\u001b[0m\u001b[0;34m)\u001b[0m \u001b[0;32mif\u001b[0m \u001b[0mt\u001b[0m \u001b[0;32mnot\u001b[0m \u001b[0;32min\u001b[0m \u001b[0mstopwords\u001b[0m\u001b[0;34m)\u001b[0m\u001b[0;34m)\u001b[0m\u001b[0;34m\u001b[0m\u001b[0;34m\u001b[0m\u001b[0m\n\u001b[0m\u001b[1;32m      5\u001b[0m \u001b[0mprint\u001b[0m\u001b[0;34m(\u001b[0m\u001b[0mdf3\u001b[0m\u001b[0;34m[\u001b[0m\u001b[0;34m'nopunc_key'\u001b[0m\u001b[0;34m]\u001b[0m\u001b[0;34m[\u001b[0m\u001b[0;36m820\u001b[0m\u001b[0;34m:\u001b[0m\u001b[0;36m840\u001b[0m\u001b[0;34m]\u001b[0m\u001b[0;34m)\u001b[0m\u001b[0;34m\u001b[0m\u001b[0;34m\u001b[0m\u001b[0m\n",
      "\u001b[0;32m/opt/anaconda3/lib/python3.9/site-packages/pandas/core/series.py\u001b[0m in \u001b[0;36mmap\u001b[0;34m(self, arg, na_action)\u001b[0m\n\u001b[1;32m   4159\u001b[0m         \u001b[0mdtype\u001b[0m\u001b[0;34m:\u001b[0m \u001b[0mobject\u001b[0m\u001b[0;34m\u001b[0m\u001b[0;34m\u001b[0m\u001b[0m\n\u001b[1;32m   4160\u001b[0m         \"\"\"\n\u001b[0;32m-> 4161\u001b[0;31m         \u001b[0mnew_values\u001b[0m \u001b[0;34m=\u001b[0m \u001b[0msuper\u001b[0m\u001b[0;34m(\u001b[0m\u001b[0;34m)\u001b[0m\u001b[0;34m.\u001b[0m\u001b[0m_map_values\u001b[0m\u001b[0;34m(\u001b[0m\u001b[0marg\u001b[0m\u001b[0;34m,\u001b[0m \u001b[0mna_action\u001b[0m\u001b[0;34m=\u001b[0m\u001b[0mna_action\u001b[0m\u001b[0;34m)\u001b[0m\u001b[0;34m\u001b[0m\u001b[0;34m\u001b[0m\u001b[0m\n\u001b[0m\u001b[1;32m   4162\u001b[0m         return self._constructor(new_values, index=self.index).__finalize__(\n\u001b[1;32m   4163\u001b[0m             \u001b[0mself\u001b[0m\u001b[0;34m,\u001b[0m \u001b[0mmethod\u001b[0m\u001b[0;34m=\u001b[0m\u001b[0;34m\"map\"\u001b[0m\u001b[0;34m\u001b[0m\u001b[0;34m\u001b[0m\u001b[0m\n",
      "\u001b[0;32m/opt/anaconda3/lib/python3.9/site-packages/pandas/core/base.py\u001b[0m in \u001b[0;36m_map_values\u001b[0;34m(self, mapper, na_action)\u001b[0m\n\u001b[1;32m    868\u001b[0m \u001b[0;34m\u001b[0m\u001b[0m\n\u001b[1;32m    869\u001b[0m         \u001b[0;31m# mapper is a function\u001b[0m\u001b[0;34m\u001b[0m\u001b[0;34m\u001b[0m\u001b[0m\n\u001b[0;32m--> 870\u001b[0;31m         \u001b[0mnew_values\u001b[0m \u001b[0;34m=\u001b[0m \u001b[0mmap_f\u001b[0m\u001b[0;34m(\u001b[0m\u001b[0mvalues\u001b[0m\u001b[0;34m,\u001b[0m \u001b[0mmapper\u001b[0m\u001b[0;34m)\u001b[0m\u001b[0;34m\u001b[0m\u001b[0;34m\u001b[0m\u001b[0m\n\u001b[0m\u001b[1;32m    871\u001b[0m \u001b[0;34m\u001b[0m\u001b[0m\n\u001b[1;32m    872\u001b[0m         \u001b[0;32mreturn\u001b[0m \u001b[0mnew_values\u001b[0m\u001b[0;34m\u001b[0m\u001b[0;34m\u001b[0m\u001b[0m\n",
      "\u001b[0;32m/opt/anaconda3/lib/python3.9/site-packages/pandas/_libs/lib.pyx\u001b[0m in \u001b[0;36mpandas._libs.lib.map_infer\u001b[0;34m()\u001b[0m\n",
      "\u001b[0;32m/var/folders/1t/wwq293ts0338xsxhk5mt_r9w0000gn/T/ipykernel_2887/1743300006.py\u001b[0m in \u001b[0;36m<lambda>\u001b[0;34m(x)\u001b[0m\n\u001b[1;32m      2\u001b[0m \u001b[0mpunctuation\u001b[0m \u001b[0;34m=\u001b[0m \u001b[0mlist\u001b[0m\u001b[0;34m(\u001b[0m\u001b[0mpunctuation\u001b[0m\u001b[0;34m)\u001b[0m\u001b[0;34m\u001b[0m\u001b[0;34m\u001b[0m\u001b[0m\n\u001b[1;32m      3\u001b[0m \u001b[0;34m\u001b[0m\u001b[0m\n\u001b[0;32m----> 4\u001b[0;31m \u001b[0mdf3\u001b[0m\u001b[0;34m[\u001b[0m\u001b[0;34m\"nopunc_key\"\u001b[0m\u001b[0;34m]\u001b[0m \u001b[0;34m=\u001b[0m \u001b[0mdf3\u001b[0m\u001b[0;34m[\u001b[0m\u001b[0;34m\"tokenized_key\"\u001b[0m\u001b[0;34m]\u001b[0m\u001b[0;34m.\u001b[0m\u001b[0mmap\u001b[0m\u001b[0;34m(\u001b[0m\u001b[0;32mlambda\u001b[0m \u001b[0mx\u001b[0m\u001b[0;34m:\u001b[0m \u001b[0;34m(\u001b[0m\u001b[0mt\u001b[0m \u001b[0;32mfor\u001b[0m \u001b[0mt\u001b[0m \u001b[0;32min\u001b[0m \u001b[0mx\u001b[0m\u001b[0;34m.\u001b[0m\u001b[0msplit\u001b[0m\u001b[0;34m(\u001b[0m\u001b[0;34m)\u001b[0m \u001b[0;32mif\u001b[0m \u001b[0mt\u001b[0m \u001b[0;32mnot\u001b[0m \u001b[0;32min\u001b[0m \u001b[0mstopwords\u001b[0m\u001b[0;34m)\u001b[0m\u001b[0;34m)\u001b[0m\u001b[0;34m\u001b[0m\u001b[0;34m\u001b[0m\u001b[0m\n\u001b[0m\u001b[1;32m      5\u001b[0m \u001b[0mprint\u001b[0m\u001b[0;34m(\u001b[0m\u001b[0mdf3\u001b[0m\u001b[0;34m[\u001b[0m\u001b[0;34m'nopunc_key'\u001b[0m\u001b[0;34m]\u001b[0m\u001b[0;34m[\u001b[0m\u001b[0;36m820\u001b[0m\u001b[0;34m:\u001b[0m\u001b[0;36m840\u001b[0m\u001b[0;34m]\u001b[0m\u001b[0;34m)\u001b[0m\u001b[0;34m\u001b[0m\u001b[0;34m\u001b[0m\u001b[0m\n",
      "\u001b[0;31mAttributeError\u001b[0m: 'list' object has no attribute 'split'"
     ]
    }
   ],
   "source": [
    "# TO-DO: remove stop words and punctuations\n",
    "punctuation = list(punctuation)\n",
    "\n",
    "df3[\"nopunc_key\"] = df3[\"tokenized_key\"].map(lambda x: (t for t in x.split() if t not in stopwords))\n",
    "print(df3['nopunc_key'][820:840])"
   ]
  },
  {
   "cell_type": "code",
   "execution_count": null,
   "metadata": {},
   "outputs": [],
   "source": []
  },
  {
   "cell_type": "code",
   "execution_count": null,
   "metadata": {
    "scrolled": true
   },
   "outputs": [],
   "source": [
    "# average length of LSRL title\n",
    "average_str_length = len(df3['tokenized_key'].sum())/len(df3)\n",
    "print(\"The average length of an LSRL title is: \", average_str_length)"
   ]
  },
  {
   "cell_type": "code",
   "execution_count": null,
   "metadata": {},
   "outputs": [],
   "source": [
    "# longest title\n",
    "longest_string = max(df3['tokenized_key'], key=len)\n",
    "print(\"The longest title is :\", longest_string) "
   ]
  },
  {
   "cell_type": "code",
   "execution_count": null,
   "metadata": {},
   "outputs": [],
   "source": [
    "# shortest title\n",
    "shortest_string = min(df3['tokenized_key'], key=len)\n",
    "print(\"The shortest title is :\", shortest_string) "
   ]
  },
  {
   "cell_type": "code",
   "execution_count": null,
   "metadata": {},
   "outputs": [],
   "source": [
    "#find a row that contains relativization in 'key'\n",
    "df3[df3['key'].str.contains('relativization')]"
   ]
  },
  {
   "cell_type": "code",
   "execution_count": null,
   "metadata": {},
   "outputs": [],
   "source": [
    "# counts unique titles\n",
    "count = df3['tokenized_key'].value_counts()\n",
    "print(count)"
   ]
  },
  {
   "cell_type": "code",
   "execution_count": null,
   "metadata": {},
   "outputs": [],
   "source": [
    "# return counts of words used in titles of the entire database \n",
    "s = pd.Series(Counter([y for x in df3['tokenized_key'] for y in x]))\n",
    "\n",
    "# sort to find the most commonly used words in titles\n",
    "y = s.sort_values(ascending = False)\n",
    "pd.set_option('display.max_rows', None)\n",
    "print(y)"
   ]
  },
  {
   "cell_type": "markdown",
   "metadata": {},
   "source": [
    "### Authors\n",
    "- most prolific writer\n",
    "- avg number of writers per paper\n",
    "- trends over time"
   ]
  },
  {
   "cell_type": "code",
   "execution_count": null,
   "metadata": {},
   "outputs": [],
   "source": [
    "## TO-DO: standardize the authors to make sure the order is reversed\n",
    "## TO-DO: remove stop words and punctuations\n",
    "# tokenize authors and remove null\n",
    "df3[\"tokenized_author\"] = df3[\"Author\"].fillna(\"\").map(lambda x: nltk.word_tokenize(x.lower())) \n",
    "df3[\"tokenized_author\"]"
   ]
  },
  {
   "cell_type": "code",
   "execution_count": null,
   "metadata": {},
   "outputs": [],
   "source": [
    "# return counts of authors and sorts it\n",
    "w = pd.Series(Counter([y for x in df3['tokenized_author'] for y in x]))\n",
    "auteur = w.sort_values(ascending = False)\n",
    "pd.set_option('display.max_rows', None)\n",
    "print(auteur)"
   ]
  },
  {
   "cell_type": "markdown",
   "metadata": {},
   "source": [
    "### Tags\n",
    "- most common language\n",
    "- area of linguistics most studied\n",
    "- trends of topics over time"
   ]
  },
  {
   "cell_type": "markdown",
   "metadata": {},
   "source": [
    "### Abstracts"
   ]
  },
  {
   "cell_type": "code",
   "execution_count": null,
   "metadata": {},
   "outputs": [],
   "source": [
    "df3[120:150]"
   ]
  }
 ],
 "metadata": {
  "kernelspec": {
   "display_name": "Python 3 (ipykernel)",
   "language": "python",
   "name": "python3"
  },
  "language_info": {
   "codemirror_mode": {
    "name": "ipython",
    "version": 3
   },
   "file_extension": ".py",
   "mimetype": "text/x-python",
   "name": "python",
   "nbconvert_exporter": "python",
   "pygments_lexer": "ipython3",
   "version": "3.9.7"
  }
 },
 "nbformat": 4,
 "nbformat_minor": 2
}
